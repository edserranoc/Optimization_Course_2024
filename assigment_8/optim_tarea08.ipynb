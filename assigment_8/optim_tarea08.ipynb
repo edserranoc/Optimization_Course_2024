{
 "cells": [
  {
   "cell_type": "markdown",
   "id": "14a81a56",
   "metadata": {},
   "source": [
    "<hr>\n",
    "<div style=\"background-color: lightgray; padding: 20px; color: black;\">\n",
    "<div>\n",
    "<img src=\"https://th.bing.com/th/id/R.3cd1c8dc996c5616cf6e65e20b6bf586?rik=09aaLyk4hfbBiQ&riu=http%3a%2f%2fcidics.uanl.mx%2fwp-content%2fuploads%2f2016%2f09%2fcimat.png&ehk=%2b0brgMUkA2BND22ixwLZheQrrOoYLO3o5cMRqsBOrlY%3d&risl=&pid=ImgRaw&r=0\" style=\"float: right; margin-right: 30px;\" width=\"200\"/> \n",
    "<font size=\"6.9\" color=\"8C3061\"><b>Curso de Optimización</b></font> <br>\n",
    "<font size=\"4.5\" color=\"8C3061\"><b>Tarea 8 - BFGS modificado</b></font> \n",
    "</div>\n",
    "<div style=\"text-align: left\">  <br>\n",
    "Edison David Serrano Cárdenas. <br>\n",
    "MSc en Matemáticas Aplicadas <br>\n",
    "CIMAT - Sede Guanajuato <br>\n",
    "</div>\n",
    "\n",
    "</div>\n",
    "<hr>\n"
   ]
  },
  {
   "cell_type": "markdown",
   "id": "88bf143d",
   "metadata": {},
   "source": [
    "# <font color=\"8C3061\" >**Cargar Librerías**</font> "
   ]
  },
  {
   "cell_type": "code",
   "execution_count": 1,
   "id": "bdfd18a7",
   "metadata": {},
   "outputs": [],
   "source": [
    "# load libraries\n",
    "from typing import Tuple, Callable \n",
    "import numpy as np\n",
    "import scipy.optimize as opt\n",
    "\n",
    "# load module Opti_functions\n",
    "from opti_functions import Opti_functions as opti\n",
    "\n",
    "# load visualization libraries\n",
    "import matplotlib.pyplot as plt\n",
    "import seaborn as sns\n",
    "sns.set_theme()"
   ]
  },
  {
   "cell_type": "markdown",
   "id": "9f6699e3-d755-48ca-bf04-5af82958f862",
   "metadata": {},
   "source": [
    "# <font color=\"8C3061\" >**Ejercicio 1 (10 puntos)**</font>\n",
    "\n",
    "Programar el método de BFGS modificado descrito en el Algoritmo 2 de la Clase 23.\n",
    "\n",
    "1. Programe la función que implementa el algoritmo. Debe recibir como parámetros\n",
    "- El punto inicial $\\mathbf{x}_0$\n",
    "- La matriz $\\mathbf{H}_0$\n",
    "- La función $f$\n",
    "- El gradiente $\\nabla f(\\mathbf{x})$\n",
    "- La tolerancia $\\tau$\n",
    "- El número máximo de iteraciones $N$\n",
    "- Los paramétros $\\rho, c_1, N_b$ del algoritmo de backtracking\n",
    "\n",
    "\n",
    "2. Pruebe el algoritmo para minimizar las siguientes funciones usando los parámetros\n",
    "   $N=5000$, $\\tau = \\sqrt{n}\\epsilon_m^{1/3}$, donde $n$ es la dimensión\n",
    "   de la variable $\\mathbf{x}$, $\\mathbf{H}_0$ como la matriz identidad \n",
    "   y $\\epsilon_m$ es el épsilon máquina. \n",
    "   Para backtracking use $\\rho=0.5$, $c_1=0.001$ y el número máximo de iteraciones $N_b=500$.\n",
    "   \n",
    "   En cada caso imprima los siguientes datos:\n",
    "   \n",
    "- la dimensión $n$,\n",
    "- $f(\\mathbf{x}_0)$,\n",
    "- el  número $k$ de iteraciones realizadas,\n",
    "- $f(\\mathbf{x}_k)$,\n",
    "- las primeras y últimas 4 entradas del punto $\\mathbf{x}_k$ que devuelve el algoritmo,\n",
    "- la norma del vector gradiente $\\mathbf{g}_k$, \n",
    "- la variable $res$ que indica si el algoritmo terminó porque se cumplió el\n",
    "  criterio de la tolerancia o terminó por iteraciones.\n",
    "  \n",
    "\n",
    "\n",
    "**Función de cuadrática 1:** Para $\\mathbf{x}=(x_1,x_2, ..., x_n)$\n",
    "\n",
    "- $f(\\mathbf{x}) = \\frac{1}{2} \\mathbf{x}^\\top\\mathbf{A}_1\\mathbf{x} - \\mathbf{b}_1^\\top\\mathbf{x}$,\n",
    "  donde $\\mathbf{A}_1$ y $\\mathbf{b}_1$ están definidas por\n",
    "  \n",
    "\n",
    "$$ \\mathbf{A}_1 = n\\mathbf{I} + \\mathbf{1} = \n",
    "\\left[\\begin{array}{llll} n      & 0      & \\cdots & 0 \\\\\n",
    "                       0      & n      & \\cdots & 0 \\\\ \n",
    "                       \\vdots & \\vdots & \\ddots & \\vdots \\\\\n",
    "                       0      & 0      & \\cdots & n \\end{array}\\right]\n",
    "+ \\left[\\begin{array}{llll} 1    & 1      & \\cdots & 1 \\\\\n",
    "                       1      & 1      & \\cdots & 1 \\\\ \n",
    "                       \\vdots & \\vdots & \\ddots & \\vdots \\\\\n",
    "                       1      & 1      & \\cdots & 1 \\end{array}\\right],  \\qquad\n",
    "\\mathbf{b}_1 = \\left[\\begin{array}{l} 1 \\\\ 1 \\\\ \\vdots \\\\ 1 \\end{array}\\right], $$\n",
    "\n",
    "donde $\\mathbf{I}$ es la matriz identidad y $\\mathbf{1}$ es la matriz llena de 1's,\n",
    "ambas de tamaño $n$, usando los puntos iniciales   \n",
    "- $\\mathbf{x}_0 = (0,...,0)\\in \\mathbb{R}^{10}$ \n",
    "- $\\mathbf{x}_0 = (0,...,0)\\in \\mathbb{R}^{100}$ \n",
    "- $\\mathbf{x}_0 = (0,...,0)\\in \\mathbb{R}^{1000}$ \n",
    "\n",
    "---\n",
    "\n",
    "**Función de cuadrática 2:** Para $\\mathbf{x}=(x_1,x_2, ..., x_n)$\n",
    "\n",
    "- $f(\\mathbf{x}) = \\frac{1}{2} \\mathbf{x}^\\top\\mathbf{A}_2\\mathbf{x} - \\mathbf{b}_2^\\top\\mathbf{x}$,\n",
    "  donde $\\mathbf{A}_2= [a_{ij}]$ y $\\mathbf{b}_2$ están definidas por\n",
    "  \n",
    "$$ a_{ij} = exp\\left(-0.25(i-j)^2 \\right),  \\qquad\n",
    "\\mathbf{b}_2 = \\left[\\begin{array}{l} 1 \\\\ 1 \\\\ \\vdots \\\\ 1 \\end{array}\\right] $$\n",
    "\n",
    "usando los puntos iniciales:\n",
    "- $\\mathbf{x}_0 = (0,...,0)\\in \\mathbb{R}^{10}$ \n",
    "- $\\mathbf{x}_0 = (0,...,0)\\in \\mathbb{R}^{100}$ \n",
    "- $\\mathbf{x}_0 = (0,...,0)\\in \\mathbb{R}^{1000}$ \n",
    "\n",
    "---\n",
    "\n",
    "**Función de Beale :** Para $\\mathbf{x}=(x_1,x_2)$\n",
    "\n",
    "$$f(\\mathbf{x}) = (1.5-x_1 + x_1x_2)^2 + (2.25 - x_1 + x_1x_2^2)^2 + (2.625 - x_1 + x_1x_2^3)^2.$$\n",
    "- $\\mathbf{x}_0 = (2,3)$  \n",
    "   \n",
    "---\n",
    "\n",
    "**Función de Himmelblau:** Para $\\mathbf{x}=(x_1,x_2)$\n",
    "\n",
    "$$f(\\mathbf{x}) = (x_1^2 + x_2 - 11)^2 + (x_1 + x_2^2 - 7)^2. $$\n",
    "- $\\mathbf{x}_0 = (2,4)$\n",
    "\n",
    "---\n",
    "\n",
    "**Función de Rosenbrock:** Para $\\mathbf{x}=(x_1,x_2, ..., x_n)$\n",
    "\n",
    "$$ f(\\mathbf{x}) = \\sum_{i=1}^{n-1} \\left[100(x_{i+1} - x_i^2)^2 + (1-x_i)^2 \\right]\n",
    "\\quad n\\geq 2.$$\n",
    "- $\\mathbf{x}_0 = (-1.2, 1.0)\\in \\mathbb{R}^{2}$  \n",
    "- $\\mathbf{x}_0 = (-1.2, 1.0, ..., -1.2, 1.0) \\in \\mathbb{R}^{20}$  \n",
    "- $\\mathbf{x}_0 = (-1.2, 1.0, ..., -1.2, 1.0) \\in \\mathbb{R}^{40}$ \n",
    "\n",
    "### Solución:\n",
    "   "
   ]
  },
  {
   "cell_type": "markdown",
   "id": "a0dc8300",
   "metadata": {},
   "source": [
    "1. Implementación del algoritmo 2 de la clase 23:"
   ]
  },
  {
   "cell_type": "code",
   "execution_count": 32,
   "id": "de12056c-ad5a-46b8-a45a-f6d732d3eb4a",
   "metadata": {},
   "outputs": [],
   "source": [
    "def modified_BFGS(x0:np.ndarray, \n",
    "                  H0:np.ndarray,\n",
    "                  f:Callable[[np.ndarray], float],\n",
    "                  gradf:Callable[[np.ndarray], np.ndarray],\n",
    "                  tol:float,\n",
    "                  max_iter:int=5000,option:int=0) -> Tuple[np.ndarray,float, int,bool]:\n",
    "    \"\"\" quasi-Newton method with BFGS update for optimization problem\n",
    "    \n",
    "    :param x0: initial guess (np.ndarray)\n",
    "    :param H0: initial Hessian approximation (np.ndarray)\n",
    "    :param f: objective function (Callable[[np.ndarray], float])\n",
    "    :param gradf: gradient of objective function (Callable[[np.ndarray], np.ndarray])\n",
    "    :param tol: tolerance for stopping criterion (float)\n",
    "    :param max_iter: maximum number of iterations (int)\n",
    "    :param option: option for the update of the Hessian approximation (int)\n",
    "    \n",
    "    :return: optimal solution, norm of the gradient at the optimal solution, number of iterations, boolean indicating whether the algorithm was successful\n",
    "    :rtype: Tuple[np.ndarray,float, int,bool]\n",
    "    \"\"\"\n",
    "    \n",
    "    n=len(x0)\n",
    "    \n",
    "    for i in range(max_iter):\n",
    "        gk = gradf(x0)\n",
    "        \n",
    "        if np.linalg.norm(gk) < tol:\n",
    "            return x0, np.linalg.norm(gk), i, True\n",
    "        \n",
    "        fk = f(x0)\n",
    "        pk = -H0 @ gk\n",
    "        if pk@gk > 0:\n",
    "            l1 =10**(-5)+(pk@gk)/(gk@gk)\n",
    "            H0 = H0 + l1*np.eye(n)\n",
    "            pk = pk - l1*gk\n",
    "        \n",
    "        alpha, _ = opti.back_tracking(alpha_init=1,rho=0.5 ,c=1e-3,\n",
    "                                   xk=x0,f=f,fk=fk,grad_fk=gk,\n",
    "                                   dir_pk=pk,iter_maxb=500)\n",
    "        sk = -x0\n",
    "        \n",
    "        x0 = x0 + alpha*pk\n",
    "        sk = sk+x0\n",
    "        yk = gradf(x0)-gk\n",
    "        if option == 0:\n",
    "            l2 = 10**(-5)- (sk@yk)/(yk@yk)\n",
    "        else:\n",
    "            if np.linalg.norm(sk@yk)>1e-10:\n",
    "                l2 = 10**(-5)- (sk@sk)/(sk@yk) \n",
    "            else:\n",
    "                l2 = 10**(-5)- (sk@yk)*1e10\n",
    "        \n",
    "        if yk@sk <=0:\n",
    "            H0 = H0 +l2*np.eye(n)\n",
    "        else:\n",
    "            rhok = 1/(yk@sk)\n",
    "            H0 = (np.eye(n)-rhok*np.outer(sk,yk))@H0@(np.eye(n)-rhok*np.outer(yk,sk))+rhok*np.outer(sk,sk)\n",
    "        \n",
    "    return x0, np.linalg.norm(gradf(x0)), max_iter, False"
   ]
  },
  {
   "cell_type": "markdown",
   "id": "0608ed07",
   "metadata": {},
   "source": [
    "> **Nota:** Para la función de Beale se cambia la actualización de la aproximación de la matriz Hessiana, en particular, se cambia el valor de $\\lambda_2$ (variable l2) ya que el término $y_k^{\\top}s_k \\approx 0$ y produce error.\n"
   ]
  },
  {
   "cell_type": "markdown",
   "id": "7b18fba1",
   "metadata": {},
   "source": [
    "2. Evaluación del algoritmo:"
   ]
  },
  {
   "cell_type": "code",
   "execution_count": 30,
   "id": "d797c815",
   "metadata": {},
   "outputs": [],
   "source": [
    "def test_BGS(x0:np.ndarray, \n",
    "            H0:np.ndarray,\n",
    "            f:Callable[[np.ndarray], float],\n",
    "            gradf:Callable[[np.ndarray], np.ndarray],\n",
    "            tol:float,\n",
    "            max_iter:int=5000,\n",
    "            option:int=0) -> None:\n",
    "    \"\"\" test the BFGS method\n",
    "    \n",
    "    :param x0: initial guess (np.ndarray)\n",
    "    :param H0: initial Hessian approximation (np.ndarray)\n",
    "    :param f: objective function (Callable[[np.ndarray], float])\n",
    "    :param gradf: gradient of objective function (Callable[[np.ndarray], np.ndarray])\n",
    "    :param tol: tolerance for stopping criterion (float)\n",
    "    :param max_iter: maximum number of iterations (int)\n",
    "    :param option: option for the update of the Hessian approximation (int)\n",
    "    \n",
    "    :return: None\n",
    "    \"\"\"\n",
    "    \n",
    "    xk, norm_gk, n_iter, success = modified_BFGS(x0, H0, f, gradf, tol, max_iter,option=option)\n",
    "    \n",
    "    n = x0.shape[0]\n",
    "    \n",
    "    print(f\"Dimensión:\\t\\t{n}\")\n",
    "    print(f\"f(x0):\\t\\t\\t{f(x0)}\")\n",
    "    print(f\"Número de iteraciones:\\t{n_iter}\")\n",
    "    print(f\"f(xk):\\t\\t\\t{f(xk)}\")\n",
    "    if n <10:\n",
    "        print(\"Solución:\\t\\t\",np.round(xk,5))\n",
    "    else:\n",
    "        print(\"Solución:\\t\\t\",','.join(map(str, xk[:4])),\",...,\",','.join(map(str, xk[-4:])))\n",
    "    \n",
    "    print(\"||gk||:\\t\\t\\t\",norm_gk)\n",
    "    print(\"Convergencia:\\t\\t\", success,\"\\n\")"
   ]
  },
  {
   "cell_type": "markdown",
   "id": "b7d701de",
   "metadata": {},
   "source": [
    "**Función de cuadrática 1:** \n",
    "\n",
    "Creación de las funciones:"
   ]
  },
  {
   "cell_type": "code",
   "execution_count": 27,
   "id": "d52146a5",
   "metadata": {},
   "outputs": [],
   "source": [
    "matrix1 = lambda n: n*np.eye(n) + np.ones((n,n))\n",
    "matrix2 = lambda n: np.fromfunction(lambda i, j: np.exp(-0.25*(i - j)**2), (n, n))\n",
    "\n",
    "A11 = matrix1(10)\n",
    "A12 = matrix1(100)\n",
    "A13 = matrix1(1000)\n",
    "b1 = np.ones(10)\n",
    "b2 = np.ones(100)\n",
    "b3 = np.ones(1000) \n",
    "\n",
    "f_square11 = lambda x: 0.5*x.T@A11@x-b1@x\n",
    "gradf_square11 = lambda x: A11@x-b1\n",
    "\n",
    "f_square12 = lambda x: 0.5*x.T@A12@x-b2@x\n",
    "gradf_square12 = lambda x: A12@x-b2\n",
    "\n",
    "f_square13 = lambda x: 0.5*x.T@A13@x-b3@x\n",
    "gradf_square13 = lambda x: A13@x-b3"
   ]
  },
  {
   "cell_type": "markdown",
   "id": "e995367c",
   "metadata": {},
   "source": [
    "- $\\mathbf{x}_0 = (0,...,0)\\in \\mathbb{R}^{10}$ "
   ]
  },
  {
   "cell_type": "code",
   "execution_count": 5,
   "id": "d424515a",
   "metadata": {},
   "outputs": [
    {
     "name": "stdout",
     "output_type": "stream",
     "text": [
      "Dimensión:\t\t10\n",
      "f(x0):\t\t\t0.0\n",
      "Número de iteraciones:\t2\n",
      "f(xk):\t\t\t-0.25\n",
      "Solución:\t\t 0.049999999999999996,0.049999999999999975,0.049999999999999975,0.049999999999999975 ,..., 0.04999999999999999,0.05000000000000003,0.04999999999999999,0.04999999999999999\n",
      "||gk||:\t\t\t 9.222205069512407e-16\n",
      "Convergencia:\t\t True \n",
      "\n"
     ]
    }
   ],
   "source": [
    "x0 =np.zeros(10)\n",
    "n = len(x0)\n",
    "tol = np.sqrt(n)*(np.finfo(float).eps)**(1/3)\n",
    "test_BGS(x0, np.eye(n), f_square11, gradf_square11, tol)"
   ]
  },
  {
   "cell_type": "markdown",
   "id": "0081539e",
   "metadata": {},
   "source": [
    "- $\\mathbf{x}_0 = (0,...,0)\\in \\mathbb{R}^{100}$\n",
    "\n"
   ]
  },
  {
   "cell_type": "code",
   "execution_count": 6,
   "id": "68d2c97f",
   "metadata": {},
   "outputs": [
    {
     "name": "stdout",
     "output_type": "stream",
     "text": [
      "Dimensión:\t\t100\n",
      "f(x0):\t\t\t0.0\n",
      "Número de iteraciones:\t2\n",
      "f(xk):\t\t\t-0.25000000000000006\n",
      "Solución:\t\t 0.00500000000000278,0.0050000000000026135,0.005000000000002669,0.005000000000002669 ,..., 0.0050000000000001155,0.00500000000000006,0.00500000000000006,0.00500000000000006\n",
      "||gk||:\t\t\t 2.7415212988133603e-12\n",
      "Convergencia:\t\t True \n",
      "\n"
     ]
    }
   ],
   "source": [
    "x0 =np.zeros(100)\n",
    "n = len(x0)\n",
    "tol = np.sqrt(n)*(np.finfo(float).eps)**(1/3)\n",
    "\n",
    "test_BGS(x0, np.eye(n), f_square12,gradf_square12, tol)"
   ]
  },
  {
   "cell_type": "markdown",
   "id": "da62cde5",
   "metadata": {},
   "source": [
    "- $\\mathbf{x}_0 = (0,...,0)\\in \\mathbb{R}^{1000}$ "
   ]
  },
  {
   "cell_type": "code",
   "execution_count": 7,
   "id": "01b41862",
   "metadata": {},
   "outputs": [
    {
     "name": "stdout",
     "output_type": "stream",
     "text": [
      "Dimensión:\t\t1000\n",
      "f(x0):\t\t\t0.0\n",
      "Número de iteraciones:\t2\n",
      "f(xk):\t\t\t-0.2500000000000001\n",
      "Solución:\t\t 0.0004999999999872329,0.0004999999999869553,0.0004999999999868998,0.0004999999999865112 ,..., 0.000500000000002665,0.0004999999999921734,0.0004999999999922844,0.0005000000000033866\n",
      "||gk||:\t\t\t 4.305932946225751e-10\n",
      "Convergencia:\t\t True \n",
      "\n"
     ]
    }
   ],
   "source": [
    "x0 =np.zeros(1000)\n",
    "n = len(x0)\n",
    "tol = np.sqrt(n)*(np.finfo(float).eps)**(1/3)\n",
    "test_BGS(x0, np.eye(n), f_square13,gradf_square13, tol)"
   ]
  },
  {
   "cell_type": "markdown",
   "id": "571b84e9",
   "metadata": {},
   "source": [
    "**Función de cuadrática 2:** "
   ]
  },
  {
   "cell_type": "code",
   "execution_count": 8,
   "id": "ae1b1e76",
   "metadata": {},
   "outputs": [],
   "source": [
    "A21 = matrix2(10)\n",
    "A22 = matrix2(100)\n",
    "A23 = matrix2(1000)\n",
    "\n",
    "f_square21 = lambda x: 0.5*x.T@A21@x-b1@x\n",
    "gradf_square21 = lambda x: A21@x-b1\n",
    "hessf_square21 = lambda x: A21\n",
    "\n",
    "f_square22 = lambda x: 0.5*x.T@A22@x-b2@x\n",
    "gradf_square22 = lambda x: A22@x-b2\n",
    "hessf_square22 = lambda x: A22\n",
    "\n",
    "f_square23 = lambda x: 0.5*x.T@A23@x-b3@x\n",
    "gradf_square23 = lambda x: A23@x-b3\n",
    "hessf_square23 = lambda x: A23"
   ]
  },
  {
   "cell_type": "markdown",
   "id": "453f7b41",
   "metadata": {},
   "source": [
    "- $\\mathbf{x}_0 = (0,...,0)\\in \\mathbb{R}^{10}$"
   ]
  },
  {
   "cell_type": "code",
   "execution_count": 9,
   "id": "a2e40edd",
   "metadata": {},
   "outputs": [
    {
     "name": "stdout",
     "output_type": "stream",
     "text": [
      "Dimensión:\t\t10\n",
      "f(x0):\t\t\t0.0\n",
      "Número de iteraciones:\t18\n",
      "f(xk):\t\t\t-1.7934208025210756\n",
      "Solución:\t\t 1.3691016473217015,-1.1663773088719873,1.6090833907274595,-0.6133922885853408 ,..., -0.6133922884207065,1.609083390950287,-1.1663773086525404,1.3691016474844186\n",
      "||gk||:\t\t\t 3.645360552182915e-06\n",
      "Convergencia:\t\t True \n",
      "\n"
     ]
    }
   ],
   "source": [
    "x0 = np.zeros(10)\n",
    "n = len(x0)\n",
    "tol = np.sqrt(n)*(np.finfo(float).eps)**(1/3)\n",
    "test_BGS(x0, np.eye(n), f_square21, gradf_square21, tol)"
   ]
  },
  {
   "cell_type": "markdown",
   "id": "c04b5c70",
   "metadata": {},
   "source": [
    "- $\\mathbf{x}_0 = (0,...,0)\\in \\mathbb{R}^{100}$"
   ]
  },
  {
   "cell_type": "code",
   "execution_count": 10,
   "id": "f3ee7295",
   "metadata": {},
   "outputs": [
    {
     "name": "stdout",
     "output_type": "stream",
     "text": [
      "Dimensión:\t\t100\n",
      "f(x0):\t\t\t0.0\n",
      "Número de iteraciones:\t138\n",
      "f(xk):\t\t\t-14.49433007065746\n",
      "Solución:\t\t 1.4462826597543326,-1.4163367857330074,2.110471808949841,-1.4249960485094144 ,..., -1.4249964079574693,2.1104721794409715,-1.4163368371845864,1.4462798671975357\n",
      "||gk||:\t\t\t 4.9695286370248855e-05\n",
      "Convergencia:\t\t True \n",
      "\n"
     ]
    }
   ],
   "source": [
    "x0 = np.zeros(100)\n",
    "n = len(x0)\n",
    "tol = np.sqrt(n)*(np.finfo(float).eps)**(1/3)\n",
    "test_BGS(x0, np.eye(n), f_square22, gradf_square22, tol)"
   ]
  },
  {
   "cell_type": "markdown",
   "id": "48b2d765",
   "metadata": {},
   "source": [
    "- $\\mathbf{x}_0 = (0,...,0)\\in \\mathbb{R}^{1000}$ "
   ]
  },
  {
   "cell_type": "code",
   "execution_count": 11,
   "id": "b6adcc9e",
   "metadata": {},
   "outputs": [
    {
     "name": "stdout",
     "output_type": "stream",
     "text": [
      "Dimensión:\t\t1000\n",
      "f(x0):\t\t\t0.0\n",
      "Número de iteraciones:\t257\n",
      "f(xk):\t\t\t-141.43698680561434\n",
      "Solución:\t\t 1.4462809436761914,-1.4163586350701007,2.110499681534894,-1.4250423456088697 ,..., -1.4250423456088632,2.1104996815348844,-1.4163586350700945,1.4462809436761883\n",
      "||gk||:\t\t\t 0.00018789741226700333\n",
      "Convergencia:\t\t True \n",
      "\n"
     ]
    }
   ],
   "source": [
    "x0 = np.zeros(1000)\n",
    "n = len(x0)\n",
    "tol = np.sqrt(n)*(np.finfo(float).eps)**(1/3)\n",
    "test_BGS(x0, np.eye(n), f_square23, gradf_square23, tol)"
   ]
  },
  {
   "cell_type": "markdown",
   "id": "6fbc6656",
   "metadata": {},
   "source": [
    "\n",
    "**Función de Beale :** \n",
    "- $\\mathbf{x}_0 = (2,3)$  \n"
   ]
  },
  {
   "cell_type": "code",
   "execution_count": 33,
   "id": "a12e8c93",
   "metadata": {},
   "outputs": [
    {
     "name": "stdout",
     "output_type": "stream",
     "text": [
      "Dimensión:\t\t2\n",
      "f(x0):\t\t\t3347.203125\n",
      "Número de iteraciones:\t5000\n",
      "f(xk):\t\t\t0.4520092838544833\n",
      "Solución:\t\t [-4.28414489e+06  1.00000023e+00]\n",
      "||gk||:\t\t\t 10.41287904419005\n",
      "Convergencia:\t\t False \n",
      "\n"
     ]
    }
   ],
   "source": [
    "x0 = np.array([2.0,3.0])\n",
    "n = len(x0)\n",
    "tol = np.sqrt(n)*(np.finfo(float).eps)**(1/3)\n",
    "test_BGS(x0, np.eye(n), opti.fncBeale, opti.grad_fncBeale, tol,option=1)"
   ]
  },
  {
   "cell_type": "markdown",
   "id": "9f4649bc",
   "metadata": {},
   "source": [
    "**Función de Himmelblau:**\n",
    "\n",
    "- $\\mathbf{x}_0 = (2,4)$\n"
   ]
  },
  {
   "cell_type": "code",
   "execution_count": 13,
   "id": "e2c16df5",
   "metadata": {},
   "outputs": [
    {
     "name": "stdout",
     "output_type": "stream",
     "text": [
      "Dimensión:\t\t2\n",
      "f(x0):\t\t\t130.0\n",
      "Número de iteraciones:\t10\n",
      "f(xk):\t\t\t9.834452856641356e-16\n",
      "Solución:\t\t [ 3.58442834 -1.84812653]\n",
      "||gk||:\t\t\t 3.8589289437020564e-07\n",
      "Convergencia:\t\t True \n",
      "\n"
     ]
    }
   ],
   "source": [
    "x0 = np.array([2.0,4.0])\n",
    "n = len(x0)\n",
    "tol = np.sqrt(n)*(np.finfo(float).eps)**(1/3)\n",
    "test_BGS(x0, np.eye(n), opti.fncHimmelblau, opti.grad_fncHimmelblau, tol)"
   ]
  },
  {
   "cell_type": "markdown",
   "id": "eb6e6294",
   "metadata": {},
   "source": [
    "**Función de Rosenbrock:** \n",
    "\n",
    "- $\\mathbf{x}_0 = (-1.2, 1.0)\\in \\mathbb{R}^{2}$  \n"
   ]
  },
  {
   "cell_type": "code",
   "execution_count": 14,
   "id": "6093c9c1",
   "metadata": {},
   "outputs": [
    {
     "name": "stdout",
     "output_type": "stream",
     "text": [
      "Dimensión:\t\t2\n",
      "f(x0):\t\t\t24.199999999999996\n",
      "Número de iteraciones:\t34\n",
      "f(xk):\t\t\t2.7456384089700976e-17\n",
      "Solución:\t\t [1.         0.99999999]\n",
      "||gk||:\t\t\t 8.834633071476498e-08\n",
      "Convergencia:\t\t True \n",
      "\n"
     ]
    }
   ],
   "source": [
    "x0 = np.array([-1.2,1.0])\n",
    "n = len(x0)\n",
    "tol = np.sqrt(n)*(np.finfo(float).eps)**(1/3)\n",
    "test_BGS(x0, np.eye(n), opti.fncRosenbrock, opti.grad_fncRosenbrock, tol)"
   ]
  },
  {
   "cell_type": "markdown",
   "id": "bcfc1495",
   "metadata": {},
   "source": [
    "- $\\mathbf{x}_0 = (-1.2, 1.0, ..., -1.2, 1.0) \\in \\mathbb{R}^{20}$"
   ]
  },
  {
   "cell_type": "code",
   "execution_count": 15,
   "id": "d85b046e",
   "metadata": {},
   "outputs": [
    {
     "name": "stdout",
     "output_type": "stream",
     "text": [
      "Dimensión:\t\t20\n",
      "f(x0):\t\t\t4598.0\n",
      "Número de iteraciones:\t127\n",
      "f(xk):\t\t\t2.170077232697732e-14\n",
      "Solución:\t\t 0.9999999996409447,0.9999999993969082,0.9999999999200035,1.0000000011915697 ,..., 1.0000000037077712,1.000000013326317,1.00000002211952,1.0000000404933735\n",
      "||gk||:\t\t\t 5.4882276845963005e-06\n",
      "Convergencia:\t\t True \n",
      "\n"
     ]
    }
   ],
   "source": [
    "x0 = np.array([-1.2,1.0]*10)\n",
    "n = len(x0)\n",
    "tol = np.sqrt(n)*(np.finfo(float).eps)**(1/3)\n",
    "test_BGS(x0, np.eye(n), opti.fncRosenbrock, opti.grad_fncRosenbrock, tol)"
   ]
  },
  {
   "cell_type": "markdown",
   "id": "f1c4edc9",
   "metadata": {},
   "source": [
    "\n",
    "- $\\mathbf{x}_0 = (-1.2, 1.0, ..., -1.2, 1.0) \\in \\mathbb{R}^{40}$ \n"
   ]
  },
  {
   "cell_type": "code",
   "execution_count": 16,
   "id": "5cd34c35",
   "metadata": {},
   "outputs": [
    {
     "name": "stdout",
     "output_type": "stream",
     "text": [
      "Dimensión:\t\t40\n",
      "f(x0):\t\t\t9680.000000000004\n",
      "Número de iteraciones:\t227\n",
      "f(xk):\t\t\t1.1208239264019521e-14\n",
      "Solución:\t\t 0.9999999982303505,0.9999999978561297,0.9999999993569929,0.9999999990046607 ,..., 1.0000000035379228,1.000000007430806,1.0000000143222796,1.0000000272551124\n",
      "||gk||:\t\t\t 4.287077291775585e-06\n",
      "Convergencia:\t\t True \n",
      "\n"
     ]
    }
   ],
   "source": [
    "x0 = np.array([-1.2,1.0]*20)\n",
    "n = len(x0)\n",
    "tol = np.sqrt(n)*(np.finfo(float).eps)**(1/3)\n",
    "test_BGS(x0, np.eye(n), opti.fncRosenbrock, opti.grad_fncRosenbrock, tol)"
   ]
  }
 ],
 "metadata": {
  "kernelspec": {
   "display_name": "Python 3 (ipykernel)",
   "language": "python",
   "name": "python3"
  },
  "language_info": {
   "codemirror_mode": {
    "name": "ipython",
    "version": 3
   },
   "file_extension": ".py",
   "mimetype": "text/x-python",
   "name": "python",
   "nbconvert_exporter": "python",
   "pygments_lexer": "ipython3",
   "version": "3.10.12"
  }
 },
 "nbformat": 4,
 "nbformat_minor": 5
}
