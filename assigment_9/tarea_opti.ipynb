{
 "cells": [
  {
   "cell_type": "markdown",
   "metadata": {},
   "source": [
    "<hr>\n",
    "<div style=\"background-color: lightgray; padding: 20px; color: black;\">\n",
    "<div>\n",
    "<img src=\"https://th.bing.com/th/id/R.3cd1c8dc996c5616cf6e65e20b6bf586?rik=09aaLyk4hfbBiQ&riu=http%3a%2f%2fcidics.uanl.mx%2fwp-content%2fuploads%2f2016%2f09%2fcimat.png&ehk=%2b0brgMUkA2BND22ixwLZheQrrOoYLO3o5cMRqsBOrlY%3d&risl=&pid=ImgRaw&r=0\" style=\"float: right; margin-right: 30px;\" width=\"200\"/> \n",
    "<font size=\"6.9\" color=\"8C3061\"><b>Curso de Optimización</b></font> <br>\n",
    "<font size=\"4.5\" color=\"8C3061\"><b>Tarea 9 - Logistic Regression and Gauss-Newton Method</b></font> \n",
    "</div>\n",
    "<div style=\"text-align: left\">  <br>\n",
    "Edison David Serrano Cárdenas. <br>\n",
    "MSc en Matemáticas Aplicadas <br>\n",
    "CIMAT - Sede Guanajuato <br>\n",
    "</div>\n",
    "\n",
    "</div>\n",
    "<hr>\n"
   ]
  },
  {
   "cell_type": "markdown",
   "metadata": {},
   "source": [
    "# <font color=\"8C3061\" >**Cargar Librerías**</font> "
   ]
  },
  {
   "cell_type": "code",
   "execution_count": 1,
   "metadata": {},
   "outputs": [],
   "source": [
    "# load libraries\n",
    "import numpy as np\n",
    "import pandas as pd\n",
    "from typing import Tuple, Callable \n",
    "from sklearn.preprocessing import StandardScaler\n",
    "# data splitting\n",
    "from sklearn.model_selection import train_test_split\n",
    "# data modeling\n",
    "from sklearn.metrics import confusion_matrix, ConfusionMatrixDisplay, accuracy_score\n",
    "from sklearn.linear_model import LogisticRegression\n",
    "\n",
    "# load module Opti_functions\n",
    "from opti_functions import Opti_functions as opti\n",
    "\n",
    "# load visualization libraries\n",
    "import matplotlib.pyplot as plt\n",
    "import seaborn as sns\n",
    "sns.set_theme()"
   ]
  },
  {
   "cell_type": "markdown",
   "metadata": {},
   "source": [
    "# <font color=\"8C3061\" >**Ejercicio 1 (5.0 puntos)**</font>\n",
    "\n",
    "Construir un clasificador binario basado en el método de regresión logística. Resuelva:"
   ]
  },
  {
   "cell_type": "markdown",
   "metadata": {},
   "source": [
    "1. Muestre que el gradiente de $L(\\mathbf{w})$ está dado por\n",
    "\n",
    "$$ \\nabla_w L(\\mathbf{w}) = - \\sum_{i=1}^m (1 - \\sigma(\\mathbf{x}_i, y_i, \\mathbf{w})) y_i\\mathbf{x}_i\n",
    "+ \\lambda \\mathbf{w}. $$\n",
    "\n",
    "2. Programar las funciones \n",
    "\n",
    "$$\\sigma(\\mathbf{X}, \\mathbf{y}, \\mathbf{w}), \\quad \n",
    "L(\\mathbf{w})\\quad \\text{y} \\quad \\nabla_w L(\\mathbf{w}).$$\n",
    "   \n",
    "- Conviene programar la función sigmoide para que pueda recibir la matriz $\\mathbf{X}$ y el vector\n",
    "  $\\mathbf{y}$, en lugar de dar un vector $\\mathbf{x}_i$ y su etiqueta $y_i$, para que\n",
    "  evalue todos los datos y devuelva un vector con probabilidades\n",
    "  \n",
    "$$ \\left( \\begin{array}{c}\n",
    "\\sigma(\\mathbf{x}_1, y_1, \\mathbf{w})  \\\\\n",
    "\\sigma(\\mathbf{x}_2, y_2, \\mathbf{w}) \\\\\n",
    "\\vdots \\\\\n",
    "\\sigma(\\mathbf{x}_m, y_m, \\mathbf{w})\n",
    "\\end{array} \\right).\n",
    "$$ \n",
    "\n",
    "- Una vez que se tiene ese vector de probabilidades, se puede calcular el gradiente\n",
    "  de $ L()$.\n",
    "\n",
    "\n",
    "3. Aplique el método de descenso máximo para minimizar la función $L(\\mathbf{w})$. \n",
    "   Use backtracking para calcular el tamaño de paso $\\alpha_k$, de modo \n",
    "   $\\mathbf{w}_{k+1} = \\mathbf{w}_{k} + \\alpha_k  \\mathbf{p}_{k}$, donde\n",
    "   \n",
    "$$\\mathbf{p}_{k} = - \\mathbf{g}_{k} = -\\nabla_w L(\\mathbf{w}_k)$$\n",
    "\n",
    "4. Pruebe el algoritmo de optimización usando $\\mathbf{w}_0=(1,1,...,1)$,  el \n",
    "   número de iteraciones máximas $N=500$, la tolerancia para terminar el algoritmo \n",
    "   $\\tau = \\sqrt{ntrain}\\epsilon_m^{1/3}$ y para el algoritmo de backtracking\n",
    "   $\\rho = 0.5, c_1 = 0.001$ $N_b=500$.\n",
    "   \n",
    "   Cree un clasificador usando $\\lambda=0.001$ y otro clasificador usando $\\lambda=1.0$. \n",
    "   \n",
    "   En cada caso use la función $predict(X_{test}, w_*)$\n",
    "   para obtener el vector de predicciones de la clase para el conjunto de prueba y\n",
    "   use el código de la celda anterior para obtener la matriz de confusión y la \n",
    "   exactitud del clasificador, para ver cual de los dos tiene mejor desempeño.\n",
    "\n",
    "  "
   ]
  },
  {
   "cell_type": "markdown",
   "metadata": {},
   "source": [
    "**Solución:** "
   ]
  },
  {
   "cell_type": "markdown",
   "metadata": {},
   "source": [
    "Parte 1:\n",
    "\n",
    "El error de clasidicación viene dado por:\n",
    "\n",
    "$$ L(\\mathbf{w}) = \\sum_{i=1}^m \\log(1 + \\exp(-y_i\\mathbf{w}^\\top\\mathbf{x}_i)) \n",
    "+ \\frac{\\lambda}{2} \\mathbf{w}^\\top\\mathbf{w}.  $$ \n",
    "\n"
   ]
  },
  {
   "cell_type": "markdown",
   "metadata": {},
   "source": [
    "Luego,\n",
    "\n",
    "$$\\begin{align*}\n",
    "\\nabla_w L(\\mathbf{w}) &= \\sum_{i=1}^m \\frac{-y_i\\mathbf{x}_i\\exp(-y_i\\mathbf{w}^\\top\\mathbf{x}_i)}{1 + \\exp(-y_i\\mathbf{w}^\\top\\mathbf{x}_i)}+\\lambda\\mathbf{w}\\\\\n",
    "&= -\\sum_{i=1}^m \\frac{\\exp(-y_i\\mathbf{w}^\\top\\mathbf{x}_i)}{1 + \\exp(-y_i\\mathbf{w}^\\top\\mathbf{x}_i)}y_i\\mathbf{x}_i+\\lambda\\mathbf{w}\\\\\n",
    "&= -\\sum_{i=1}^m\\left(1-\\frac{1}{1 + \\exp(-y_i\\mathbf{w}^\\top\\mathbf{x}_i)}\\right)y_i\\mathbf{x}_i+\\lambda\\mathbf{w}\\\\\n",
    "&=-\\sum_{i=1}^m (1 - \\sigma(\\mathbf{x}_i, y_i, \\mathbf{w})) y_i\\mathbf{x}_i\n",
    "\\end{align*}$$"
   ]
  },
  {
   "cell_type": "markdown",
   "metadata": {},
   "source": [
    "La expresión anterior puede escribirse como\n",
    "\n",
    "$$\\nabla_w L(\\mathbf{w}) = - X^{\\top}((1-\\sigma(\\mathbf{X}, \\mathbf{y}, \\mathbf{w}))*y)$$"
   ]
  },
  {
   "cell_type": "markdown",
   "metadata": {},
   "source": [
    "Parte 2:"
   ]
  },
  {
   "cell_type": "markdown",
   "metadata": {},
   "source": [
    "Función $\\sigma(\\mathbf{X}, \\mathbf{y}, \\mathbf{w})$:"
   ]
  },
  {
   "cell_type": "code",
   "execution_count": 2,
   "metadata": {},
   "outputs": [],
   "source": [
    "sigmoid = lambda X,w,y: 1/(1+np.exp(-y*np.dot(X,w)))"
   ]
  },
  {
   "cell_type": "markdown",
   "metadata": {},
   "source": [
    "Función $L(\\mathbf{w})$:"
   ]
  },
  {
   "cell_type": "code",
   "execution_count": 3,
   "metadata": {},
   "outputs": [],
   "source": [
    "L_cost = lambda X,w,y,l: np.log(1+np.exp(-y*np.dot(X,w))).sum()+l/2*np.dot(w,w)"
   ]
  },
  {
   "cell_type": "markdown",
   "metadata": {},
   "source": [
    "Función $\\nabla_w L(\\mathbf{w})$:"
   ]
  },
  {
   "cell_type": "code",
   "execution_count": 4,
   "metadata": {},
   "outputs": [],
   "source": [
    "grad_L_cost = lambda X,w,y,l: - X.T@((1-sigmoid(X,w,y))*y)+l*w"
   ]
  },
  {
   "cell_type": "markdown",
   "metadata": {},
   "source": [
    "Parte 3. Se modifica la función predict para que sea más eficiente"
   ]
  },
  {
   "cell_type": "code",
   "execution_count": 5,
   "metadata": {},
   "outputs": [],
   "source": [
    "def predict(X:np.array, w:np.array)->np.array:\n",
    "    \"\"\"Predict the label of each data point in X.\n",
    "    :param X: Data matrix of shape (n,m)\n",
    "    :rtype X: np.array\n",
    "    :param w: Weights of the model\n",
    "    :rtype w: np.array\n",
    "    :return: Vector of predictions\n",
    "    :rtype: np.array\n",
    "    \"\"\"\n",
    "    \n",
    "    vprob = sigmoid(X, w, np.ones(X.shape[0]))\n",
    "    return np.where(vprob>0.5, 1, -1)"
   ]
  },
  {
   "cell_type": "markdown",
   "metadata": {},
   "source": [
    "Se va a realizar el proceso descrito por el docente para analizar la siguiente base de datos base de datos ([Heart disease](https://archive.ics.uci.edu/dataset/45/heart+disease)) pero sin incluir las explicaciones dadas, para facilitar la lectura."
   ]
  },
  {
   "cell_type": "code",
   "execution_count": 6,
   "metadata": {},
   "outputs": [
    {
     "name": "stdout",
     "output_type": "stream",
     "text": [
      "Dimensiones de la tabla: (303, 14)\n"
     ]
    },
    {
     "data": {
      "text/html": [
       "<div>\n",
       "<style scoped>\n",
       "    .dataframe tbody tr th:only-of-type {\n",
       "        vertical-align: middle;\n",
       "    }\n",
       "\n",
       "    .dataframe tbody tr th {\n",
       "        vertical-align: top;\n",
       "    }\n",
       "\n",
       "    .dataframe thead th {\n",
       "        text-align: right;\n",
       "    }\n",
       "</style>\n",
       "<table border=\"1\" class=\"dataframe\">\n",
       "  <thead>\n",
       "    <tr style=\"text-align: right;\">\n",
       "      <th></th>\n",
       "      <th>age</th>\n",
       "      <th>sex</th>\n",
       "      <th>cp</th>\n",
       "      <th>trestbps</th>\n",
       "      <th>chol</th>\n",
       "      <th>fbs</th>\n",
       "      <th>restecg</th>\n",
       "      <th>thalach</th>\n",
       "      <th>exang</th>\n",
       "      <th>oldpeak</th>\n",
       "      <th>slope</th>\n",
       "      <th>ca</th>\n",
       "      <th>thal</th>\n",
       "      <th>target</th>\n",
       "    </tr>\n",
       "  </thead>\n",
       "  <tbody>\n",
       "    <tr>\n",
       "      <th>0</th>\n",
       "      <td>63</td>\n",
       "      <td>1</td>\n",
       "      <td>3</td>\n",
       "      <td>145</td>\n",
       "      <td>233</td>\n",
       "      <td>1</td>\n",
       "      <td>0</td>\n",
       "      <td>150</td>\n",
       "      <td>0</td>\n",
       "      <td>2.3</td>\n",
       "      <td>0</td>\n",
       "      <td>0</td>\n",
       "      <td>1</td>\n",
       "      <td>1</td>\n",
       "    </tr>\n",
       "    <tr>\n",
       "      <th>1</th>\n",
       "      <td>37</td>\n",
       "      <td>1</td>\n",
       "      <td>2</td>\n",
       "      <td>130</td>\n",
       "      <td>250</td>\n",
       "      <td>0</td>\n",
       "      <td>1</td>\n",
       "      <td>187</td>\n",
       "      <td>0</td>\n",
       "      <td>3.5</td>\n",
       "      <td>0</td>\n",
       "      <td>0</td>\n",
       "      <td>2</td>\n",
       "      <td>1</td>\n",
       "    </tr>\n",
       "    <tr>\n",
       "      <th>2</th>\n",
       "      <td>41</td>\n",
       "      <td>0</td>\n",
       "      <td>1</td>\n",
       "      <td>130</td>\n",
       "      <td>204</td>\n",
       "      <td>0</td>\n",
       "      <td>0</td>\n",
       "      <td>172</td>\n",
       "      <td>0</td>\n",
       "      <td>1.4</td>\n",
       "      <td>2</td>\n",
       "      <td>0</td>\n",
       "      <td>2</td>\n",
       "      <td>1</td>\n",
       "    </tr>\n",
       "    <tr>\n",
       "      <th>3</th>\n",
       "      <td>56</td>\n",
       "      <td>1</td>\n",
       "      <td>1</td>\n",
       "      <td>120</td>\n",
       "      <td>236</td>\n",
       "      <td>0</td>\n",
       "      <td>1</td>\n",
       "      <td>178</td>\n",
       "      <td>0</td>\n",
       "      <td>0.8</td>\n",
       "      <td>2</td>\n",
       "      <td>0</td>\n",
       "      <td>2</td>\n",
       "      <td>1</td>\n",
       "    </tr>\n",
       "    <tr>\n",
       "      <th>4</th>\n",
       "      <td>57</td>\n",
       "      <td>0</td>\n",
       "      <td>0</td>\n",
       "      <td>120</td>\n",
       "      <td>354</td>\n",
       "      <td>0</td>\n",
       "      <td>1</td>\n",
       "      <td>163</td>\n",
       "      <td>1</td>\n",
       "      <td>0.6</td>\n",
       "      <td>2</td>\n",
       "      <td>0</td>\n",
       "      <td>2</td>\n",
       "      <td>1</td>\n",
       "    </tr>\n",
       "  </tbody>\n",
       "</table>\n",
       "</div>"
      ],
      "text/plain": [
       "   age  sex  cp  trestbps  chol  fbs  restecg  thalach  exang  oldpeak  slope  \\\n",
       "0   63    1   3       145   233    1        0      150      0      2.3      0   \n",
       "1   37    1   2       130   250    0        1      187      0      3.5      0   \n",
       "2   41    0   1       130   204    0        0      172      0      1.4      2   \n",
       "3   56    1   1       120   236    0        1      178      0      0.8      2   \n",
       "4   57    0   0       120   354    0        1      163      1      0.6      2   \n",
       "\n",
       "   ca  thal  target  \n",
       "0   0     1       1  \n",
       "1   0     2       1  \n",
       "2   0     2       1  \n",
       "3   0     2       1  \n",
       "4   0     2       1  "
      ]
     },
     "execution_count": 6,
     "metadata": {},
     "output_type": "execute_result"
    }
   ],
   "source": [
    "data = pd.read_csv('heart.csv')\n",
    "print('Dimensiones de la tabla:', data.shape)\n",
    "data.head()"
   ]
  },
  {
   "cell_type": "markdown",
   "metadata": {},
   "source": [
    "Datos que están en la clase '0' y en la clase '1'"
   ]
  },
  {
   "cell_type": "code",
   "execution_count": 7,
   "metadata": {},
   "outputs": [
    {
     "data": {
      "text/plain": [
       "target\n",
       "0    138\n",
       "1    165\n",
       "dtype: int64"
      ]
     },
     "execution_count": 7,
     "metadata": {},
     "output_type": "execute_result"
    }
   ],
   "source": [
    "data.groupby(['target']).size()"
   ]
  },
  {
   "cell_type": "code",
   "execution_count": 8,
   "metadata": {},
   "outputs": [
    {
     "name": "stdout",
     "output_type": "stream",
     "text": [
      "w = \n",
      "[ 0.1147 -0.0751 -0.8634  0.7965 -0.193  -0.2474 -0.1338  0.0921  0.5058\n",
      " -0.4787 -0.6458  0.1344 -0.8846 -0.4599]\n"
     ]
    }
   ],
   "source": [
    "# Cambiamos la etiqueta 0 por -1\n",
    "data.loc[data['target']==0, 'target'] = -1\n",
    "# Vector de etiquetas\n",
    "y  = data[\"target\"]\n",
    "\n",
    "# Matriz de datos\n",
    "X  = data.drop('target',axis=1)\n",
    "\n",
    "# Se usa el 20% de los datos para crear el conjunto de prueba\n",
    "X_train, X_test, y_train, y_test = train_test_split(X, y, test_size=0.20, random_state = 0)\n",
    "\n",
    "# Se estandariza cada columna de la matriz de datos para evitar que por tener diferentes \n",
    "# rangos de valores cada columna (variable), afecte al algoritmo de optimización\n",
    "scaler = StandardScaler()\n",
    "X_train = scaler.fit_transform(X_train)\n",
    "X_test = scaler.transform(X_test)\n",
    "\n",
    "# Número de muestras del conjunto de entrenamiento\n",
    "ntrain  = X_train.shape[0]\n",
    "# Se agrega una columna de 1's para que el bias b forme pare del vector w\n",
    "X_train = np.hstack((np.ones((ntrain,1)), X_train))\n",
    "\n",
    "# Número de muestras del conjunto de prueba\n",
    "ntest   = X_test.shape[0]\n",
    "# Se agrega una columna de 1's para que el bias b forme pare del vector w\n",
    "X_test  = np.hstack((np.ones((ntest,1)), X_test))\n",
    "\n",
    "# Se convierte los dataframes a una matriz de numpy\n",
    "y_train = y_train.to_numpy()\n",
    "y_test = y_test.to_numpy()\n",
    "\n",
    "# Se entrena el clasificador de regresión logística\n",
    "lr    = LogisticRegression(fit_intercept=False)\n",
    "model = lr.fit(X_train, y_train)\n",
    "\n",
    "# Imprimimos las componentes de w\n",
    "w = np.squeeze(model.coef_)\n",
    "print('w = ')\n",
    "print(np.round(w,4))\n",
    "\n",
    "# Se calcula las predicciones para el conjunto de prueba \n",
    "y_predict = model.predict(X_test)"
   ]
  },
  {
   "cell_type": "code",
   "execution_count": 9,
   "metadata": {},
   "outputs": [
    {
     "name": "stdout",
     "output_type": "stream",
     "text": [
      "\n",
      "Accuracy: 0.8360655737704918 \n",
      "\n"
     ]
    },
    {
     "data": {
      "image/png": "[encoded data removed]",
      "text/plain": [
       "<Figure size 640x480 with 2 Axes>"
      ]
     },
     "metadata": {},
     "output_type": "display_data"
    }
   ],
   "source": [
    "# Se mide el desempeño calculando la matriz de confusión y la exactitud\n",
    "conf_matrix = confusion_matrix(y_test, y_predict)\n",
    "acc_score = accuracy_score(y_test, y_predict)\n",
    "print(\"\\nAccuracy:\", acc_score,'\\n')\n",
    "\n",
    "disp = ConfusionMatrixDisplay(confusion_matrix=conf_matrix,\n",
    "                              display_labels=model.classes_)\n",
    "disp.plot()\n",
    "plt.grid(False)\n",
    "\n",
    "plt.show()"
   ]
  },
  {
   "cell_type": "markdown",
   "metadata": {},
   "source": [
    "La función $L$ se busca maximizar solo la variable $w$, ya que los datos $X_{train}$, $y_{train}$ y $\\lambda$ no varian en el ejercicio. Entonces, podemos usar el algoritmo de descenso máximo presentado en la tarea 3, pero, las funciones a maximizar son:\n",
    "\n",
    "```python\n",
    "f1 = lambda w: L_cost(X_train, w, y_train, l1)\n",
    "f2 = lambda w: grad_L_cost(X_train, w, y_train, l2)\n",
    "```\n",
    "\n",
    "y sus respectivos gradientes son\n",
    "\n",
    "```python\n",
    "grad_f1 = lambda w: grad_L_cost(X_train, w, y_train, l1)\n",
    "grad_f2 = lambda w: grad_L_cost(X_train, w, y_train, l2)\n",
    "```\n",
    "\n",
    "La implementación se encuentra en el archivo **opti_functions.py**, que es la misma de la tarea 3."
   ]
  },
  {
   "cell_type": "markdown",
   "metadata": {},
   "source": [
    "Parte 4: El algoritmo **gradient_descent_backtracking** se encuentra en opti_functions.py"
   ]
  },
  {
   "cell_type": "code",
   "execution_count": 10,
   "metadata": {},
   "outputs": [],
   "source": [
    "l1 = 0.001\n",
    "l2 = 1.0\n",
    "tol =np.sqrt(ntrain)*(np.finfo(float).eps)**(1/3)                 "
   ]
  },
  {
   "cell_type": "code",
   "execution_count": 11,
   "metadata": {},
   "outputs": [],
   "source": [
    "def model_evaluation(X_test, y_test, w):\n",
    "    y_predict = predict(X_test, w)\n",
    "    conf_matrix = confusion_matrix(y_test, y_predict)\n",
    "    acc_score = accuracy_score(y_test, y_predict)\n",
    "    print(\"\\nAccuracy:\", acc_score,'\\n')\n",
    "    print('Matriz de confusión:')\n",
    "    disp = ConfusionMatrixDisplay(confusion_matrix=conf_matrix,\n",
    "                              display_labels=model.classes_)\n",
    "    disp.plot()\n",
    "    plt.grid(False)"
   ]
  },
  {
   "cell_type": "markdown",
   "metadata": {},
   "source": [
    "Clasificador 1:"
   ]
  },
  {
   "cell_type": "code",
   "execution_count": 12,
   "metadata": {},
   "outputs": [
    {
     "name": "stdout",
     "output_type": "stream",
     "text": [
      "Numero de Iteraciones =  30\n",
      "Costo =  84.3974\n",
      "w1 =\n",
      " [ 0.1114 -0.0687 -0.9334  0.8505 -0.2027 -0.2817 -0.1498  0.0965  0.5373\n",
      " -0.4927 -0.6915  0.1294 -0.9395 -0.485 ]\n"
     ]
    }
   ],
   "source": [
    "w1,k1,_ =opti.gradient_descent_backtracking(f = lambda w: L_cost(X_train, w, y_train, l1),\n",
    "                                   grad_f = lambda w: grad_L_cost(X_train, w, y_train, l1),\n",
    "                                   x0 = np.ones(14), tol = tol, iter_max=500, alpha_init=1.0, \n",
    "                                   rho=0.5, c=0.001, max_iter_bt=500)\n",
    "print('Numero de Iteraciones = ', k1)\n",
    "print('Costo = ', round(L_cost(X_train, w1, y_train, l1),4))\n",
    "print('w1 =\\n', np.round(w1,4))"
   ]
  },
  {
   "cell_type": "code",
   "execution_count": 13,
   "metadata": {},
   "outputs": [
    {
     "name": "stdout",
     "output_type": "stream",
     "text": [
      "\n",
      "Accuracy: 0.8524590163934426 \n",
      "\n",
      "Matriz de confusión:\n"
     ]
    },
    {
     "data": {
      "image/png": "[encoded data removed]",
      "text/plain": [
       "<Figure size 640x480 with 2 Axes>"
      ]
     },
     "metadata": {},
     "output_type": "display_data"
    }
   ],
   "source": [
    "model_evaluation(X_test, y_test, w1)"
   ]
  },
  {
   "cell_type": "markdown",
   "metadata": {},
   "source": [
    "Clasificador 2:"
   ]
  },
  {
   "cell_type": "code",
   "execution_count": 14,
   "metadata": {},
   "outputs": [
    {
     "name": "stdout",
     "output_type": "stream",
     "text": [
      "Numero de Iteraciones =  32\n",
      "Costo =  86.2254\n",
      "w1 =\n",
      " [ 0.1147 -0.0751 -0.8634  0.7966 -0.193  -0.2474 -0.1338  0.0922  0.5058\n",
      " -0.4787 -0.6459  0.1343 -0.8846 -0.4599]\n"
     ]
    }
   ],
   "source": [
    "w2,k2,_ =opti.gradient_descent_backtracking(f = lambda w: L_cost(X_train, w, y_train, l2),\n",
    "                                   grad_f = lambda w: grad_L_cost(X_train, w, y_train, l2),\n",
    "                                   x0 = np.ones(14), tol = tol, iter_max=500, alpha_init=1.0, \n",
    "                                   rho=0.5, c=0.001, max_iter_bt=500)\n",
    "print('Numero de Iteraciones = ', k2)\n",
    "print('Costo = ', round(L_cost(X_train, w2, y_train, l2),4))\n",
    "print('w1 =\\n', np.round(w2,4))"
   ]
  },
  {
   "cell_type": "code",
   "execution_count": 15,
   "metadata": {},
   "outputs": [
    {
     "name": "stdout",
     "output_type": "stream",
     "text": [
      "\n",
      "Accuracy: 0.8360655737704918 \n",
      "\n",
      "Matriz de confusión:\n"
     ]
    },
    {
     "data": {
      "image/png": "[encoded data removed]",
      "text/plain": [
       "<Figure size 640x480 with 2 Axes>"
      ]
     },
     "metadata": {},
     "output_type": "display_data"
    }
   ],
   "source": [
    "model_evaluation(X_test, y_test, w2)"
   ]
  },
  {
   "cell_type": "markdown",
   "metadata": {},
   "source": [
    "El modelo con mejor desempeño es en el que el término de regularización es menor."
   ]
  },
  {
   "cell_type": "markdown",
   "metadata": {},
   "source": [
    "# <font color=\"8C3061\" >**Ejercicio 2 (5.0 puntos)**</font>\n",
    "\n",
    "Usando el método de Gauss-Newton (Algoritmo 1 de la Clase 26) ajustar el modelo \n",
    "\n",
    "$$ h(t; N_{max}, r, t_0) = \\frac{N_{max}}{1 + \\exp(-r(t - t_0))}.  $$\n",
    "\n",
    "La variable $t$ representa el tiempo. Los parámetros del modelo son $N_{max}, r, t_0$.\n",
    "\n",
    "Considere el conjunto de datos $\\{(t_1, y_1), (t_2, y_2), ..., (t_m, y_m) \\}$ que generaron en la Ayudantía 12.\n",
    "\n",
    "Los datos están almacenados los vectores $\\mathbf{T}$ y $\\mathbf{Y}$:\n",
    "\n",
    "$$\n",
    "\\mathbf{T} = \\left( \\begin{array}{c} t_1 \\\\ t_2 \\\\ \\vdots \\\\ t_m \\end{array} \\right), \\qquad\n",
    "\\mathbf{Y} = \\left( \\begin{array}{c} y_1 \\\\ y_2 \\\\ \\vdots \\\\ y_m \\end{array} \\right).\n",
    "$$"
   ]
  },
  {
   "cell_type": "code",
   "execution_count": 16,
   "metadata": {},
   "outputs": [],
   "source": [
    "fnc_h = lambda t, N_max, r, t0: N_max / (1 + np.exp(-r * (t - t0)))\n",
    "\n",
    "m, rnd_scale  = 500, 5e2\n",
    "params_hat = (N_max_hat, r_hat, t0_hat) = (1e4, 0.1, 5)\n",
    "\n",
    "T = np.linspace(0, 100, m)\n",
    "Y = fnc_h(T, *params_hat) + rnd_scale * np.random.randn(m)"
   ]
  },
  {
   "cell_type": "code",
   "execution_count": 17,
   "metadata": {},
   "outputs": [
    {
     "data": {
      "image/png": "[encoded data removed]",
      "text/plain": [
       "<Figure size 640x480 with 1 Axes>"
      ]
     },
     "metadata": {},
     "output_type": "display_data"
    }
   ],
   "source": [
    "plt.plot(T, Y, 'o', markersize=2)\n",
    "plt.plot(T, fnc_h(T, *params_hat), 'r')\n",
    "plt.title('Datos generados')\n",
    "plt.xlabel('Tiempo [t]')\n",
    "plt.ylabel('Población [h(t)]')\n",
    "plt.show()"
   ]
  },
  {
   "cell_type": "markdown",
   "metadata": {},
   "source": [
    "Para resolver el problema de mínimos cuadrados no lineales hay \n",
    "que definir los residuales como la diferencia entre los que predice\n",
    "el modelo $ h(t_i; N_{max}, r, t_0)$ y el valor observado $y_i$:\n",
    "\n",
    "$$ r_i(N_{max}, r, t_0) = h(t_i; N_{max}, r, t_0) - y_i, \\quad i=1,2,...,m. $$\n",
    "\n",
    "Si definimos  $\\mathbf{z} = (N_{max}, r, t_0)$ , la función de residuales está dada por\n",
    "\n",
    "$$ \\mathbf{R}(\\mathbf{z}) = \\left( \\begin{array}{c}\n",
    "          r_{1}(\\mathbf{z}) \\\\\n",
    "          r_{2}(\\mathbf{z}) \\\\\n",
    "          \\vdots \\\\\n",
    "          r_{m}(\\mathbf{z}) \\\\\n",
    "\\end{array} \\right). $$\n",
    "\n",
    "Hay que calcular los parámetros $\\mathbf{z} = (N_{max}, r, t_0)$ resolviendo el problema\n",
    "de mínimos cuadrados no lineales.\n",
    "\n",
    "$$ \\min_{z} \\; f(\\mathbf{z}) = \\frac{1}{2}\\sum_{i=1}^m r_i^2(\\mathbf{z}) \n",
    "=  \\frac{1}{2} \\left[ \\mathbf{R}(\\mathbf{z}) \\right]^\\top  \\mathbf{R}(\\mathbf{z}). $$"
   ]
  },
  {
   "cell_type": "markdown",
   "metadata": {},
   "source": [
    "1. Programe el método de Gauss-Newton de acuerdo con Algoritmo 1 de la Clase 26.\n",
    "   Haga que la función devuelva el último punto $\\mathbf{z}_k$, \n",
    "   el vector $\\mathbf{p}_k$ y el número de iteraciones $k$ realizadas.\n"
   ]
  },
  {
   "cell_type": "markdown",
   "metadata": {},
   "source": [
    "\n",
    "2. Programe las funciones  $\\mathbf{R}(\\mathbf{z})$, $f(\\mathbf{z})$ y \n",
    "   la función que calcula matriz Jacobiana $\\mathbf{J}(\\mathbf{z})$ de $\\mathbf{R}(\\mathbf{z})$\n",
    "   para el modelo $h(t_i; N_{max}, r, t_0)$.\n"
   ]
  },
  {
   "cell_type": "markdown",
   "metadata": {},
   "source": [
    "3. Aplique el método de Gauss-Newton partiendo del punto inicial\n",
    "   $\\mathbf{z}_0 = (1000, 0.2, 0)$, una tolerancia $\\tau=\\epsilon_m^{1/3}$\n",
    "   \n",
    "   Imprima el punto $\\mathbf{z}_k$ que devuelve el algoritmo, el valor \n",
    "   $f(\\mathbf{z}_k)$, el número de iteraciones $k$ realizadas y la norma de $\\mathbf{p}_k$.\n"
   ]
  },
  {
   "cell_type": "markdown",
   "metadata": {},
   "source": [
    "   \n",
    "4. Grafique los datos y la curva del modelo usando los valores del punto inicial\n",
    "   $\\mathbf{z}_0$ y del punto $\\mathbf{z}_k$ que devuelve el algoritmo, como lo hicieron en \n",
    "   la ayudantía.\n",
    "   "
   ]
  },
  {
   "cell_type": "markdown",
   "metadata": {},
   "source": [
    "**Solución:**"
   ]
  },
  {
   "cell_type": "markdown",
   "metadata": {},
   "source": [
    "Parte 1: Implementación del algoritmo de  Gauss-Newton"
   ]
  },
  {
   "cell_type": "code",
   "execution_count": 18,
   "metadata": {},
   "outputs": [],
   "source": [
    "def Gauss_Newton_method_step_size(f:Callable[[np.array],np.array],R:Callable[[np.array],np.array],\n",
    "                                  J:Callable[[np.array],np.array], x0:np.array,iter_max:int,\n",
    "                                  tol:float)->Tuple[np.array,np.array,int]:\n",
    "    \"\"\"Gauss-Newton method with step size.\n",
    "    \n",
    "    :param f: Function to minimize\n",
    "    :rtype f: Callable[[np.array],np.array]\n",
    "    :param R: Residual function\n",
    "    :rtype R: Callable[[np.array],np.array]\n",
    "    :param J: Jacobian of the residual function\n",
    "    :rtype J: Callable[[np.array],np.array]\n",
    "    :param x0: Initial point\n",
    "    :rtype x0: np.array\n",
    "    :param iter_max: Maximum number of iterations\n",
    "    :rtype iter_max: int\n",
    "    :param tol: Tolerance\n",
    "    :rtype tol: float\n",
    "    :return: A tuple with the solution, the descent direction and the number of iterations\n",
    "    \"\"\"\n",
    "    \n",
    "    for k in range(iter_max):\n",
    "        r, Jx = R(x0),J(x0)\n",
    "        fk, gk = f(x0), Jx.T@r \n",
    "       \n",
    "        pk = np.linalg.solve(Jx.T@Jx, -Jx.T@r)\n",
    "        if np.linalg.norm(pk)<tol:\n",
    "            return x0, pk, k\n",
    "        \n",
    "        alpha, _ = opti.back_tracking(alpha_init=1,rho=0.5 ,c=1e-3,xk=x0,f=f,\n",
    "                                      fk=fk,grad_fk=gk,dir_pk=pk,iter_maxb=500)\n",
    "        \n",
    "        x0 = x0 + alpha*pk\n",
    "    return x0, pk, k"
   ]
  },
  {
   "cell_type": "markdown",
   "metadata": {},
   "source": [
    "Parte 2: Función $R(z)$"
   ]
  },
  {
   "cell_type": "code",
   "execution_count": 19,
   "metadata": {},
   "outputs": [],
   "source": [
    "def R(params:np.array)->np.array:\n",
    "    return fnc_h(T, *params)-Y"
   ]
  },
  {
   "cell_type": "markdown",
   "metadata": {},
   "source": [
    "Función $f(z)$"
   ]
  },
  {
   "cell_type": "code",
   "execution_count": 20,
   "metadata": {},
   "outputs": [],
   "source": [
    "def f(params:np.array)->np.array:\n",
    "    return 0.5*R(params)@R(params)"
   ]
  },
  {
   "cell_type": "markdown",
   "metadata": {},
   "source": [
    "Función $J(z)$"
   ]
  },
  {
   "cell_type": "code",
   "execution_count": 21,
   "metadata": {},
   "outputs": [],
   "source": [
    "def J(params:np.array)->np.array:\n",
    "    N_max, r, t0 = params\n",
    "    return np.array([fnc_h(T, N_max, r, t0)/N_max,\n",
    "                     fnc_h(T,N_max,r,t0)*(T-t0)*fnc_h(T,N_max,-r,t0)/N_max,\n",
    "                     -fnc_h(T,N_max,r,t0)*fnc_h(T,N_max,-r,t0)*r/N_max]).T"
   ]
  },
  {
   "cell_type": "markdown",
   "metadata": {},
   "source": [
    "\n",
    "$$ h(t; N_{max}, r, t_0) = \\frac{N_{max}}{1 + \\exp(-r(t - t_0))}.  $$"
   ]
  },
  {
   "cell_type": "markdown",
   "metadata": {},
   "source": [
    "Parte 3: Evaluación del método de Gauss-Newton"
   ]
  },
  {
   "cell_type": "code",
   "execution_count": 22,
   "metadata": {},
   "outputs": [],
   "source": [
    "tol = np.finfo(float).eps**(1/3)\n",
    "params0 = np.array([1000, 0.2, 0])\n",
    "\n",
    "params_hat_1, pk_1, k_1 = Gauss_Newton_method_step_size(f,R,J,params0,500,tol)"
   ]
  },
  {
   "cell_type": "code",
   "execution_count": 23,
   "metadata": {},
   "outputs": [
    {
     "name": "stdout",
     "output_type": "stream",
     "text": [
      "(N_max,r,t0)\t\t: [ 10027.455542 , 0.097874 , 4.638838 ]\n",
      "f(zk)\t\t\t: 65310278.797255\n",
      "Número de iteraciones\t: 9\n",
      "Dirección de descenso\t: [-8.23219831e-07  3.33452998e-10  3.15827426e-08]\n"
     ]
    }
   ],
   "source": [
    "print('(N_max,r,t0)\\t\\t: [', round(params_hat_1[0],6),\",\",round(params_hat_1[1],6),\",\",round(params_hat_1[2],6),\"]\")\n",
    "print('f(zk)\\t\\t\\t:', round(f(params_hat_1),6))\n",
    "print('Número de iteraciones\\t:', k_1)\n",
    "print('Dirección de descenso\\t:', pk_1)\n"
   ]
  },
  {
   "cell_type": "markdown",
   "metadata": {},
   "source": [
    "Comparación con el valor inicial:"
   ]
  },
  {
   "cell_type": "code",
   "execution_count": 24,
   "metadata": {},
   "outputs": [
    {
     "name": "stdout",
     "output_type": "stream",
     "text": [
      "z0\t: [ 10000.0 , 0.1 , 5 ]\n",
      "f(z0)\t: 16990262452.848534\n"
     ]
    }
   ],
   "source": [
    "print(\"z0\\t: [\",  N_max_hat,\",\", r_hat,\",\", t0_hat,\"]\")\n",
    "print(\"f(z0)\\t:\", f(params0))   "
   ]
  },
  {
   "cell_type": "markdown",
   "metadata": {},
   "source": [
    "Parte 4: Visualización del modelo con el valor inicial $z_0$ y el valor $z_k$ de los parámetros"
   ]
  },
  {
   "cell_type": "code",
   "execution_count": 26,
   "metadata": {},
   "outputs": [
    {
     "data": {
      "image/png": "[encoded data removed]",
      "text/plain": [
       "<Figure size 1000x500 with 1 Axes>"
      ]
     },
     "metadata": {},
     "output_type": "display_data"
    }
   ],
   "source": [
    "plt.figure(figsize=(10,5))\n",
    "plt.plot(T, Y, 'o', markersize=2)\n",
    "plt.plot(T, fnc_h(T, *params_hat_1), 'r', label='Gauss-Newton')\n",
    "plt.plot(T, fnc_h(T, *params_hat), 'green', label='Modelo Real')\n",
    "plt.title('Minimos cuadrados no lineales con datos simulados de población')\n",
    "plt.xlabel('Tiempo [t]')\n",
    "plt.ylabel('Población [h(t)]')\n",
    "plt.legend()\n",
    "plt.show()"
   ]
  }
 ],
 "metadata": {
  "kernelspec": {
   "display_name": "Python 3",
   "language": "python",
   "name": "python3"
  },
  "language_info": {
   "codemirror_mode": {
    "name": "ipython",
    "version": 3
   },
   "file_extension": ".py",
   "mimetype": "text/x-python",
   "name": "python",
   "nbconvert_exporter": "python",
   "pygments_lexer": "ipython3",
   "version": "3.10.12"
  }
 },
 "nbformat": 4,
 "nbformat_minor": 2
}
